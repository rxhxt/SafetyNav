{
 "cells": [
  {
   "cell_type": "code",
   "execution_count": 2,
   "metadata": {},
   "outputs": [],
   "source": [
    "import pandas as pd"
   ]
  },
  {
   "cell_type": "code",
   "execution_count": 3,
   "metadata": {},
   "outputs": [
    {
     "data": {
      "text/html": [
       "<div>\n",
       "<style scoped>\n",
       "    .dataframe tbody tr th:only-of-type {\n",
       "        vertical-align: middle;\n",
       "    }\n",
       "\n",
       "    .dataframe tbody tr th {\n",
       "        vertical-align: top;\n",
       "    }\n",
       "\n",
       "    .dataframe thead th {\n",
       "        text-align: right;\n",
       "    }\n",
       "</style>\n",
       "<table border=\"1\" class=\"dataframe\">\n",
       "  <thead>\n",
       "    <tr style=\"text-align: right;\">\n",
       "      <th></th>\n",
       "      <th>Unnamed: 0</th>\n",
       "      <th>latitude</th>\n",
       "      <th>longitude</th>\n",
       "      <th>incident_datetime</th>\n",
       "      <th>criminal_rate</th>\n",
       "    </tr>\n",
       "  </thead>\n",
       "  <tbody>\n",
       "    <tr>\n",
       "      <th>0</th>\n",
       "      <td>0</td>\n",
       "      <td>37.773467</td>\n",
       "      <td>-122.391434</td>\n",
       "      <td>2018-01-31</td>\n",
       "      <td>0.000000</td>\n",
       "    </tr>\n",
       "    <tr>\n",
       "      <th>1</th>\n",
       "      <td>1</td>\n",
       "      <td>37.756167</td>\n",
       "      <td>-122.406636</td>\n",
       "      <td>2018-01-31</td>\n",
       "      <td>0.008152</td>\n",
       "    </tr>\n",
       "    <tr>\n",
       "      <th>2</th>\n",
       "      <td>2</td>\n",
       "      <td>37.716156</td>\n",
       "      <td>-122.390002</td>\n",
       "      <td>2018-01-31</td>\n",
       "      <td>0.006793</td>\n",
       "    </tr>\n",
       "    <tr>\n",
       "      <th>3</th>\n",
       "      <td>3</td>\n",
       "      <td>37.780615</td>\n",
       "      <td>-122.416138</td>\n",
       "      <td>2018-03-31</td>\n",
       "      <td>0.009511</td>\n",
       "    </tr>\n",
       "    <tr>\n",
       "      <th>4</th>\n",
       "      <td>4</td>\n",
       "      <td>37.787765</td>\n",
       "      <td>-122.405041</td>\n",
       "      <td>2018-03-31</td>\n",
       "      <td>0.000000</td>\n",
       "    </tr>\n",
       "  </tbody>\n",
       "</table>\n",
       "</div>"
      ],
      "text/plain": [
       "   Unnamed: 0   latitude   longitude incident_datetime  criminal_rate\n",
       "0           0  37.773467 -122.391434        2018-01-31       0.000000\n",
       "1           1  37.756167 -122.406636        2018-01-31       0.008152\n",
       "2           2  37.716156 -122.390002        2018-01-31       0.006793\n",
       "3           3  37.780615 -122.416138        2018-03-31       0.009511\n",
       "4           4  37.787765 -122.405041        2018-03-31       0.000000"
      ]
     },
     "execution_count": 3,
     "metadata": {},
     "output_type": "execute_result"
    }
   ],
   "source": [
    "df = pd.read_csv(\"time_series_df_1.csv\")\n",
    "df.head()"
   ]
  },
  {
   "cell_type": "code",
   "execution_count": 4,
   "metadata": {},
   "outputs": [
    {
     "data": {
      "text/html": [
       "<div>\n",
       "<style scoped>\n",
       "    .dataframe tbody tr th:only-of-type {\n",
       "        vertical-align: middle;\n",
       "    }\n",
       "\n",
       "    .dataframe tbody tr th {\n",
       "        vertical-align: top;\n",
       "    }\n",
       "\n",
       "    .dataframe thead th {\n",
       "        text-align: right;\n",
       "    }\n",
       "</style>\n",
       "<table border=\"1\" class=\"dataframe\">\n",
       "  <thead>\n",
       "    <tr style=\"text-align: right;\">\n",
       "      <th></th>\n",
       "      <th>Unnamed: 0</th>\n",
       "      <th>latitude</th>\n",
       "      <th>longitude</th>\n",
       "      <th>criminal_rate</th>\n",
       "    </tr>\n",
       "  </thead>\n",
       "  <tbody>\n",
       "    <tr>\n",
       "      <th>count</th>\n",
       "      <td>28850.000000</td>\n",
       "      <td>28850.000000</td>\n",
       "      <td>28850.000000</td>\n",
       "      <td>28850.000000</td>\n",
       "    </tr>\n",
       "    <tr>\n",
       "      <th>mean</th>\n",
       "      <td>14424.500000</td>\n",
       "      <td>37.762091</td>\n",
       "      <td>-122.430072</td>\n",
       "      <td>0.019556</td>\n",
       "    </tr>\n",
       "    <tr>\n",
       "      <th>std</th>\n",
       "      <td>8328.421969</td>\n",
       "      <td>0.026712</td>\n",
       "      <td>0.029543</td>\n",
       "      <td>0.033419</td>\n",
       "    </tr>\n",
       "    <tr>\n",
       "      <th>min</th>\n",
       "      <td>0.000000</td>\n",
       "      <td>37.708020</td>\n",
       "      <td>-122.511295</td>\n",
       "      <td>0.000000</td>\n",
       "    </tr>\n",
       "    <tr>\n",
       "      <th>25%</th>\n",
       "      <td>7212.250000</td>\n",
       "      <td>37.739276</td>\n",
       "      <td>-122.446284</td>\n",
       "      <td>0.006793</td>\n",
       "    </tr>\n",
       "    <tr>\n",
       "      <th>50%</th>\n",
       "      <td>14424.500000</td>\n",
       "      <td>37.765183</td>\n",
       "      <td>-122.423498</td>\n",
       "      <td>0.009511</td>\n",
       "    </tr>\n",
       "    <tr>\n",
       "      <th>75%</th>\n",
       "      <td>21636.750000</td>\n",
       "      <td>37.783691</td>\n",
       "      <td>-122.408595</td>\n",
       "      <td>0.020380</td>\n",
       "    </tr>\n",
       "    <tr>\n",
       "      <th>max</th>\n",
       "      <td>28849.000000</td>\n",
       "      <td>37.829991</td>\n",
       "      <td>-122.363743</td>\n",
       "      <td>1.000000</td>\n",
       "    </tr>\n",
       "  </tbody>\n",
       "</table>\n",
       "</div>"
      ],
      "text/plain": [
       "         Unnamed: 0      latitude     longitude  criminal_rate\n",
       "count  28850.000000  28850.000000  28850.000000   28850.000000\n",
       "mean   14424.500000     37.762091   -122.430072       0.019556\n",
       "std     8328.421969      0.026712      0.029543       0.033419\n",
       "min        0.000000     37.708020   -122.511295       0.000000\n",
       "25%     7212.250000     37.739276   -122.446284       0.006793\n",
       "50%    14424.500000     37.765183   -122.423498       0.009511\n",
       "75%    21636.750000     37.783691   -122.408595       0.020380\n",
       "max    28849.000000     37.829991   -122.363743       1.000000"
      ]
     },
     "execution_count": 4,
     "metadata": {},
     "output_type": "execute_result"
    }
   ],
   "source": [
    "df.describe()"
   ]
  },
  {
   "cell_type": "code",
   "execution_count": 5,
   "metadata": {},
   "outputs": [
    {
     "data": {
      "text/plain": [
       "<Axes: >"
      ]
     },
     "execution_count": 5,
     "metadata": {},
     "output_type": "execute_result"
    },
    {
     "data": {
      "image/png": "[encoded data removed]",
      "text/plain": [
       "<Figure size 640x480 with 1 Axes>"
      ]
     },
     "metadata": {},
     "output_type": "display_data"
    }
   ],
   "source": [
    "df[\"criminal_rate\"].plot(kind=\"line\")"
   ]
  },
  {
   "cell_type": "code",
   "execution_count": 8,
   "metadata": {},
   "outputs": [],
   "source": [
    "df['lat|lng'] = df.apply( lambda x: str(x['latitude'])+\"|\"+str(x[\"longitude\"]), axis=1)"
   ]
  },
  {
   "cell_type": "code",
   "execution_count": 9,
   "metadata": {},
   "outputs": [
    {
     "data": {
      "text/plain": [
       "lat|lng\n",
       "37.7839325760642|-122.4125952775858       30\n",
       "37.7751608100771|-122.40363551943442      26\n",
       "37.77346692060748|-122.39143433652146     23\n",
       "37.7984422945084|-122.40987875494628      20\n",
       "37.76257883049033|-122.42166247826908     19\n",
       "                                          ..\n",
       "37.75522792768016|-122.44034493696574      1\n",
       "37.75196033846789|-122.4363768720082       1\n",
       "37.74491245872787|-122.4182005264714       1\n",
       "37.726083693335056|-122.4095268662561      1\n",
       "37.753945370890655|-122.47018996013026     1\n",
       "Name: count, Length: 6013, dtype: int64"
      ]
     },
     "execution_count": 9,
     "metadata": {},
     "output_type": "execute_result"
    }
   ],
   "source": [
    "df['lat|lng'].value_counts()"
   ]
  },
  {
   "cell_type": "code",
   "execution_count": 27,
   "metadata": {},
   "outputs": [],
   "source": [
    "final_df = df.groupby(['latitude', 'longitude']).agg({\"criminal_rate\":[\"count\",\"mean\"]}).reset_index()\n",
    "final_df.columns = ['latitude',\"longitude\", \"count\", \"avg_score\"]"
   ]
  },
  {
   "cell_type": "code",
   "execution_count": 29,
   "metadata": {},
   "outputs": [],
   "source": [
    "final_df.to_csv(\"combined_risk_score.csv\")"
   ]
  },
  {
   "cell_type": "code",
   "execution_count": 22,
   "metadata": {},
   "outputs": [
    {
     "data": {
      "text/plain": [
       "latitude   longitude  \n",
       "37.708020  -122.412497    8\n",
       "37.708058  -122.441986    2\n",
       "37.708215  -122.452347    1\n",
       "37.708256  -122.454281    4\n",
       "37.708311  -122.420083    9\n",
       "                         ..\n",
       "37.829549  -122.371429    8\n",
       "37.829617  -122.373178    8\n",
       "37.829662  -122.375600    7\n",
       "37.829792  -122.375324    5\n",
       "37.829991  -122.374594    7\n",
       "Length: 6013, dtype: int64"
      ]
     },
     "execution_count": 22,
     "metadata": {},
     "output_type": "execute_result"
    }
   ],
   "source": [
    "df.groupby(['latitude', 'longitude']).size()\n"
   ]
  },
  {
   "cell_type": "code",
   "execution_count": 31,
   "metadata": {},
   "outputs": [
    {
     "data": {
      "text/html": [
       "<div>\n",
       "<style scoped>\n",
       "    .dataframe tbody tr th:only-of-type {\n",
       "        vertical-align: middle;\n",
       "    }\n",
       "\n",
       "    .dataframe tbody tr th {\n",
       "        vertical-align: top;\n",
       "    }\n",
       "\n",
       "    .dataframe thead th {\n",
       "        text-align: right;\n",
       "    }\n",
       "</style>\n",
       "<table border=\"1\" class=\"dataframe\">\n",
       "  <thead>\n",
       "    <tr style=\"text-align: right;\">\n",
       "      <th></th>\n",
       "      <th>latitude</th>\n",
       "      <th>longitude</th>\n",
       "      <th>count</th>\n",
       "      <th>avg_score</th>\n",
       "    </tr>\n",
       "  </thead>\n",
       "  <tbody>\n",
       "    <tr>\n",
       "      <th>5333</th>\n",
       "      <td>37.793074</td>\n",
       "      <td>-122.408545</td>\n",
       "      <td>1</td>\n",
       "      <td>0.000000</td>\n",
       "    </tr>\n",
       "    <tr>\n",
       "      <th>2703</th>\n",
       "      <td>37.752778</td>\n",
       "      <td>-122.422910</td>\n",
       "      <td>1</td>\n",
       "      <td>0.000000</td>\n",
       "    </tr>\n",
       "    <tr>\n",
       "      <th>2702</th>\n",
       "      <td>37.752777</td>\n",
       "      <td>-122.469894</td>\n",
       "      <td>1</td>\n",
       "      <td>0.000000</td>\n",
       "    </tr>\n",
       "    <tr>\n",
       "      <th>2648</th>\n",
       "      <td>37.752045</td>\n",
       "      <td>-122.483844</td>\n",
       "      <td>1</td>\n",
       "      <td>0.000000</td>\n",
       "    </tr>\n",
       "    <tr>\n",
       "      <th>4870</th>\n",
       "      <td>37.785539</td>\n",
       "      <td>-122.460308</td>\n",
       "      <td>1</td>\n",
       "      <td>0.000000</td>\n",
       "    </tr>\n",
       "    <tr>\n",
       "      <th>...</th>\n",
       "      <td>...</td>\n",
       "      <td>...</td>\n",
       "      <td>...</td>\n",
       "      <td>...</td>\n",
       "    </tr>\n",
       "    <tr>\n",
       "      <th>923</th>\n",
       "      <td>37.726950</td>\n",
       "      <td>-122.476039</td>\n",
       "      <td>17</td>\n",
       "      <td>0.202765</td>\n",
       "    </tr>\n",
       "    <tr>\n",
       "      <th>4498</th>\n",
       "      <td>37.779992</td>\n",
       "      <td>-122.413487</td>\n",
       "      <td>14</td>\n",
       "      <td>0.210695</td>\n",
       "    </tr>\n",
       "    <tr>\n",
       "      <th>4440</th>\n",
       "      <td>37.779212</td>\n",
       "      <td>-122.410937</td>\n",
       "      <td>14</td>\n",
       "      <td>0.237384</td>\n",
       "    </tr>\n",
       "    <tr>\n",
       "      <th>4500</th>\n",
       "      <td>37.780006</td>\n",
       "      <td>-122.411933</td>\n",
       "      <td>11</td>\n",
       "      <td>0.240983</td>\n",
       "    </tr>\n",
       "    <tr>\n",
       "      <th>4815</th>\n",
       "      <td>37.784560</td>\n",
       "      <td>-122.407337</td>\n",
       "      <td>15</td>\n",
       "      <td>0.247736</td>\n",
       "    </tr>\n",
       "  </tbody>\n",
       "</table>\n",
       "<p>6013 rows × 4 columns</p>\n",
       "</div>"
      ],
      "text/plain": [
       "       latitude   longitude  count  avg_score\n",
       "5333  37.793074 -122.408545      1   0.000000\n",
       "2703  37.752778 -122.422910      1   0.000000\n",
       "2702  37.752777 -122.469894      1   0.000000\n",
       "2648  37.752045 -122.483844      1   0.000000\n",
       "4870  37.785539 -122.460308      1   0.000000\n",
       "...         ...         ...    ...        ...\n",
       "923   37.726950 -122.476039     17   0.202765\n",
       "4498  37.779992 -122.413487     14   0.210695\n",
       "4440  37.779212 -122.410937     14   0.237384\n",
       "4500  37.780006 -122.411933     11   0.240983\n",
       "4815  37.784560 -122.407337     15   0.247736\n",
       "\n",
       "[6013 rows x 4 columns]"
      ]
     },
     "execution_count": 31,
     "metadata": {},
     "output_type": "execute_result"
    }
   ],
   "source": [
    "final_df.sort_values(\"avg_score\")"
   ]
  },
  {
   "cell_type": "code",
   "execution_count": null,
   "metadata": {},
   "outputs": [],
   "source": []
  }
 ],
 "metadata": {
  "kernelspec": {
   "display_name": "Python 3",
   "language": "python",
   "name": "python3"
  },
  "language_info": {
   "codemirror_mode": {
    "name": "ipython",
    "version": 3
   },
   "file_extension": ".py",
   "mimetype": "text/x-python",
   "name": "python",
   "nbconvert_exporter": "python",
   "pygments_lexer": "ipython3",
   "version": "3.11.5"
  }
 },
 "nbformat": 4,
 "nbformat_minor": 2
}
